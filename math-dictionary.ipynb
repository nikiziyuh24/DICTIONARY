print("Welcome to the Math Dictionary!\n")

dictionary = { 
    "Abacus": "An early counting tool used for basic arithmetic.",
    "Acute Angle": "An angle whose measure is between zero degrees and 90 degrees,or with less than 90-degree radians.",
    "Addend": "A number involved in an addition problem.",
    "Algebra": "The branch of mathematics that substitutes letters for numbers to solve for unknown values.",
    "Algorithm": "The procedure or set of steps used to solve a mathematical computation.",
    "Base": "The bottom of a shape or three-dimensional object.",
    "Bar Graph": "A graph that represents data visually using bars of different heights or lengths.",
    "Bell Curve": "The center of a bell curve contains the highest value points.",
    "Binomial": "A polynomial equation with two terms usually joined by a plus or minus sign.",
    "BEDMAS or PEMDAS": "An acronym used to help people remember the correct order of operations for solving algebraic equations.",
    "Calculus": "The branch of mathematics involving derivatives and integrals.",
    "Chord": "A segment joining two points on a circle.",
    "Coefficient": "A letter or number representing a numerical quantity attached to a term.",
    "Cone": "A three-dimensional shape with only one vertex and a circular vase.",
    "Constant": "A value that does not change.",
    "Decimal": "A real number on the basr ten standard numbering system.",
    "Decagon": "A polygon or shape with ten angles and ten straight lines.",
    "Degree": "The unit of an angle's measure.",
    "Diagonal": "A line segment that connects two vertices in a polygon.",
    "Dividend": "A number divided into equal parts.",
    "Edge": "A line is where two faces meet in a three-dimensional structure.",
    "End Point": "The point at which a line or curve ends.",
    "Equilateral": "A term used to described a shape whose sides are all equal length.",
    "Equation": "A statement that shows the equality of two expressions by joining them with an equal sign.",
    "Evaluate": "This word means to calculate the numerical value.",
    "Face": "The flat surfaces on a three-dimensional object.",
    "Factoring": "The process of breaking numbers into another number exactly.",
    "Figures": "Two-dimensional shapes.",
    "Finite": "Not infinite, has an end.",
    "Flip": "A reflection or mirror image of a two-dimensional shape.",
    "Geometry": "The study of lines,angles,shapes,and their priorities.",
    "Hexagon": "A six-sides and six-angled polygon.",
    "Integers": "All whole numbers,positive or negative,including zero.",

} 

word = input("\nEnter a math term: ")
print(dictionary[word])
