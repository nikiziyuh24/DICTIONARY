{
 "cells": [
  {
   "cell_type": "code",
   "execution_count": null,
   "metadata": {},
   "outputs": [
    {
     "name": "stdout",
     "output_type": "stream",
     "text": [
      "Welcome to the Math Dictionary!\n",
      "\n"
     ]
    }
   ],
   "source": [
    "print(\"Welcome to the Math Dictionary!\\n\")\n",
    "\n",
    "dictionary = { \n",
    "    \"Abacus\": \"An early counting tool used for basic arithmetic.\",\n",
    "    \"Absolute Value\": \"Always a positive number.\",\n",
    "    \"Acute Angle\": \"An angle whose measure is between zero degrees and 90 degrees, or with less than 90-degree radians.\",\n",
    "    \"Addend\": \"A number involved in an addition.\",\n",
    "    \"Algebra\": \"The branch of mathematics that substitutes letters for numbers to solve for unknown values.\",\n",
    "    \"Algorithm\": \"A procedure or set of steps used to solve a mathematical computation.\",\n",
    "    \"Angle\": \"Two rays sharing the same endpoint.\",\n",
    "    \"Area\": \"The two-dimensional space taken up by an object or shape, given in square units.\",\n",
    "    \"Base\": \"The bottom of a shape or three-dimensional object.\",\n",
    "    \"Bar Graph\": \"A graph that represents data visually using bars of different heights or lengths.\",\n",
    "    \"Binomial\": \" A polynomial equation with two terms usually joined by a plus or minus sign.\",\n",
    "    \"Bell Curve\": \"The center of a bell curve contains the highest value points.\",\n",
    "    \"Calculus\": \"The study of motion in which changing values are studied.\",\n",
    "    \"Capacity\": \"The volume of substance that a container will hold.\",\n",
    "    \"Chord\": \"A segment joining two points on a circle.\",\n",
    "    \"Circumference\": \"The complete distance around a circle or a square.\",\n",
    "    \"Complementary Angles\": \"Two angles that together equal 90 degrees.\",\n",
    "    \"Constant\": \"A value that does not change.\",\n",
    "    \"Decagon\": \"A polygon or shape with ten angles and ten straight lines.\",\n",
    "    \"Decimal\": \"A real number on the base ten standard numbering system.\",\n",
    "    \"Denominator\": \"The bottom number of a fraction.\",\n",
    "    \"Edge\": \"A line is where two faces meet in a three-dimensional structure.\",\n",
    "    \"Endpoint\": \"The point at which a line or curve ends.\",\n",
    "    \"Equation\": \"A statement that shows the equality of two expressions by joining them with an equals sign.\",\n",
    "    \"Even Numbers\": \"A number that can be divided or is divisible by 2.\",\n",
    "    \"Face\": \"The flat surfaces on a three-dimensional object.\",\n",
    "    \"Factoring\": \"The process of breaking numbers down into all of their factors.\",\n",
    "    \"Figure\": \"Two-dimensional shapes.\",\n",
    "    \"Finite\": \"Not infinite; has an end.\",\n",
    "    \"Geometry\": \"The study of lines, angles, shapes, and their properties.\",\n",
    "    \"Greatest Common Factor\": \"The largest number common to each set of factors that divides both numbers exactly.\",\n",
    "}\n",
    "\n",
    "while True:\n",
    "    word = input(\"\\nEnter a Math term: \")\n",
    "   \n",
    "    if word in dictionary:\n",
    "         print(dictionary[word])\n",
    "    else: \n",
    "         print(\"That term isn't in dictionary yet.\")\n",
    "    "
   ]
  },
  {
   "cell_type": "code",
   "execution_count": null,
   "metadata": {},
   "outputs": [],
   "source": []
  }
 ],
 "metadata": {
  "kernelspec": {
   "display_name": "Python 3 (ipykernel)",
   "language": "python",
   "name": "python3"
  },
  "language_info": {
   "codemirror_mode": {
    "name": "ipython",
    "version": 3
   },
   "file_extension": ".py",
   "mimetype": "text/x-python",
   "name": "python",
   "nbconvert_exporter": "python",
   "pygments_lexer": "ipython3",
   "version": "3.11.0"
  }
 },
 "nbformat": 4,
 "nbformat_minor": 4
}
